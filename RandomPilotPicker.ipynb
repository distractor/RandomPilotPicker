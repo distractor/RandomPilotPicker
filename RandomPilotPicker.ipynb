{
 "cells": [
  {
   "cell_type": "markdown",
   "metadata": {},
   "source": [
    "# RandomPilotPicker"
   ]
  },
  {
   "cell_type": "code",
   "execution_count": 1,
   "metadata": {},
   "outputs": [],
   "source": [
    "import pandas as pd\n",
    "import numpy as np\n",
    "import random"
   ]
  },
  {
   "cell_type": "markdown",
   "metadata": {},
   "source": [
    "### Import league results from URL"
   ]
  },
  {
   "cell_type": "code",
   "execution_count": 2,
   "metadata": {},
   "outputs": [],
   "source": [
    "url = r'http://ligajp.lzs-zveza.si/liga/2019'\n",
    "tables = pd.read_html(url, attrs = {'class': 'scrollable'}) # Returns results table\n",
    "data = tables[0] # Select table of interest"
   ]
  },
  {
   "cell_type": "code",
   "execution_count": 3,
   "metadata": {},
   "outputs": [],
   "source": [
    "pilots = [pilot for pilot in data['Pilot']] # Pilots list\n",
    "headers = data.columns"
   ]
  },
  {
   "cell_type": "code",
   "execution_count": 4,
   "metadata": {},
   "outputs": [],
   "source": [
    "scores = [] # Score list\n",
    "for index, row in data.iterrows():\n",
    "    pilotScores = []\n",
    "    for i in range(headers.get_loc('T1'), len(headers) - 1):\n",
    "        pilotScores.append(row[i])\n",
    "    scores.append(pilotScores)"
   ]
  },
  {
   "cell_type": "markdown",
   "metadata": {},
   "source": [
    "### Create tickets from drummel"
   ]
  },
  {
   "cell_type": "code",
   "execution_count": 5,
   "metadata": {},
   "outputs": [],
   "source": [
    "condition = np.asarray(scores) > 0 # Every scores greater than 0 is assumed as \"present at task\"\n",
    "pilotPresentCount = [np.sum(row) for row in condition] # How many times was pilot present at league"
   ]
  },
  {
   "cell_type": "code",
   "execution_count": 6,
   "metadata": {},
   "outputs": [],
   "source": [
    "# Fill drummel\n",
    "tickets = []\n",
    "i = 0\n",
    "for pilot in pilots:\n",
    "    for count in range(pilotPresentCount[i]):\n",
    "        tickets.append(pilot)\n",
    "    i = i + 1"
   ]
  },
  {
   "cell_type": "markdown",
   "metadata": {},
   "source": [
    "# Pick winners"
   ]
  },
  {
   "cell_type": "markdown",
   "metadata": {},
   "source": [
    "#### Picks N winners at random"
   ]
  },
  {
   "cell_type": "code",
   "execution_count": 7,
   "metadata": {},
   "outputs": [],
   "source": [
    "N = 10 # Number of winners to pick\n",
    "winners = random.sample(tickets, N)"
   ]
  },
  {
   "cell_type": "markdown",
   "metadata": {},
   "source": [
    "#### Prizes"
   ]
  },
  {
   "cell_type": "code",
   "execution_count": 8,
   "metadata": {},
   "outputs": [],
   "source": [
    "prizes = ['Pentagon', 'Oudie', 'FAI', 'FAI', 'FAI', 'FAI', 'FAI', 'Condor', 'Condor', 'Condor']"
   ]
  },
  {
   "cell_type": "markdown",
   "metadata": {},
   "source": [
    "#### Prints out winners"
   ]
  },
  {
   "cell_type": "code",
   "execution_count": null,
   "metadata": {},
   "outputs": [
    {
     "name": "stdout",
     "output_type": "stream",
     "text": [
      "Congratulations to the winners:\n",
      "\t 1. Pentagon: Stojan Kranjc\n",
      "\t 2. Oudie: Dusan Durkovic\n",
      "\t 3. FAI: Timotej Majdic\n",
      "\t 4. FAI: Jernej Simič\n",
      "\t 5. FAI: Dušan Orož\n",
      "\t 6. FAI: Rok Kaver\n",
      "\t 7. FAI: Dušan Orož\n",
      "\t 8. Condor: Peter Kocjan\n",
      "\t 9. Condor: Tomaž Eržen\n",
      "\t 10. Condor: Rok Lorger\n"
     ]
    }
   ],
   "source": [
    "print('Congratulations to the winners:')\n",
    "for i in range(len(winners)):\n",
    "    print('\\t %d. ' %(i + 1) + prizes[i] + ': ' + winners[i])"
   ]
  },
  {
   "cell_type": "markdown",
   "metadata": {},
   "source": [
    "# Test distribution"
   ]
  },
  {
   "cell_type": "code",
   "execution_count": null,
   "metadata": {},
   "outputs": [],
   "source": [
    "import matplotlib.pyplot as plt"
   ]
  },
  {
   "cell_type": "code",
   "execution_count": null,
   "metadata": {},
   "outputs": [],
   "source": [
    "repeat = 1000000 # Repeat\n",
    "lucky = [0] * len(pilots)\n",
    "for i in range(repeat):\n",
    "    winners = random.sample(tickets, N)\n",
    "    for winner in winners:\n",
    "        lucky[pilots.index(winner)] += 1  "
   ]
  },
  {
   "cell_type": "code",
   "execution_count": null,
   "metadata": {},
   "outputs": [],
   "source": [
    "DPI = 106 # Varies on screen\n",
    "fig = plt.figure(figsize=(1200/DPI,600/DPI))\n",
    "plt.hist(pilots, len(pilots), weights = lucky, rwidth=0.9)\n",
    "plt.xticks(pilots, pilots, rotation='vertical')\n",
    "plt.show()"
   ]
  },
  {
   "cell_type": "code",
   "execution_count": null,
   "metadata": {},
   "outputs": [],
   "source": []
  }
 ],
 "metadata": {
  "kernelspec": {
   "display_name": "Python 3",
   "language": "python",
   "name": "python3"
  },
  "language_info": {
   "codemirror_mode": {
    "name": "ipython",
    "version": 3
   },
   "file_extension": ".py",
   "mimetype": "text/x-python",
   "name": "python",
   "nbconvert_exporter": "python",
   "pygments_lexer": "ipython3",
   "version": "3.7.3"
  }
 },
 "nbformat": 4,
 "nbformat_minor": 2
}
